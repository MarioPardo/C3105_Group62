{
 "cells": [
  {
   "cell_type": "markdown",
   "metadata": {},
   "source": [
    "<h1> Q2: Gradient Descent and Logistic Regression </h1>"
   ]
  },
  {
   "cell_type": "code",
   "execution_count": 1,
   "metadata": {},
   "outputs": [
    {
     "name": "stdout",
     "output_type": "stream",
     "text": [
      "Testing\n"
     ]
    }
   ],
   "source": [
    "import os\n",
    "import autograd.numpy as np  # when testing gradient\n",
    "from cvxopt import matrix, solvers\n",
    "import pandas as pd\n",
    "\n",
    "print(\"Testing\")"
   ]
  },
  {
   "cell_type": "code",
   "execution_count": null,
   "metadata": {},
   "outputs": [],
   "source": [
    "#Q2a)\n",
    "\n",
    "\n",
    "def linearRegL2Obj(w, X, y):\n",
    "\n",
    "    pred = X @ w\n",
    "    diff = pred = y\n",
    "    objectiveVal = (1/2) * np.mean(diff ** 2)\n",
    "    n = X.shape[0]\n",
    "    gradient = (X.T @ diff) / n\n",
    "\n",
    "    return objectiveVal, gradient\n"
   ]
  },
  {
   "cell_type": "code",
   "execution_count": null,
   "metadata": {},
   "outputs": [],
   "source": [
    "#Q2b\n",
    "\n",
    "def gd(func, w_init, X, y, step_size, max_iter, tol=1e-10):\n",
    "\n",
    "    w = w_init\n",
    "\n",
    "    for i in range(max_iter):\n",
    "        objval, gradient = func(w,X,y)\n",
    "        \n",
    "        norm = np.linalg.norm(gradient)\n",
    "        if norm < tol: #stop when gradient is good enough\n",
    "            break;\n",
    "\n",
    "        w = w - step_size * gradient\n",
    "\n",
    "    return 2\n",
    "\n"
   ]
  },
  {
   "cell_type": "code",
   "execution_count": null,
   "metadata": {},
   "outputs": [],
   "source": [
    "#Q2c\n",
    "\n",
    "def sigmoid(x):\n",
    "    return np.exp(-np.logaddexp(0, -x))\n",
    "\n",
    "\n",
    "def logisticRegObj(w, X, y):\n",
    "    pred = X @ w\n",
    "    n = X.shape[0]\n",
    "    \n",
    "    objval = (1/n) * np.sum(np.logaddexp(0, -pred) - y * pred)\n",
    "    grad = (1/n) * X.T @ (sigmoid(pred) - y)\n",
    "    \n",
    "    return objval, grad\n"
   ]
  }
 ],
 "metadata": {
  "kernelspec": {
   "display_name": "base",
   "language": "python",
   "name": "python3"
  },
  "language_info": {
   "codemirror_mode": {
    "name": "ipython",
    "version": 3
   },
   "file_extension": ".py",
   "mimetype": "text/x-python",
   "name": "python",
   "nbconvert_exporter": "python",
   "pygments_lexer": "ipython3",
   "version": "3.11.5"
  }
 },
 "nbformat": 4,
 "nbformat_minor": 2
}
