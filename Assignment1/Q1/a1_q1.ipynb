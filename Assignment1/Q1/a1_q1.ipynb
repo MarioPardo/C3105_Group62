{
 "cells": [
  {
   "cell_type": "markdown",
   "metadata": {},
   "source": [
    "<h1> Q1: Linear Regression </h1>"
   ]
  },
  {
   "cell_type": "code",
   "execution_count": 1,
   "metadata": {},
   "outputs": [],
   "source": [
    "import os\n",
    "import autograd.numpy as np  # when testing gradient\n",
    "from cvxopt import matrix, solvers\n",
    "import pandas as pd\n"
   ]
  },
  {
   "cell_type": "markdown",
   "metadata": {},
   "source": []
  },
  {
   "cell_type": "code",
   "execution_count": 6,
   "metadata": {},
   "outputs": [
    {
     "name": "stdout",
     "output_type": "stream",
     "text": [
      "Weights w: [-6.   6.5]\n",
      "Predicted y: [7. 8. 9.]\n",
      "Original y: [7 8 9]\n"
     ]
    }
   ],
   "source": [
    "#Q1a)\n",
    "\n",
    "def minimizeL2(X,y):\n",
    "    #from lecture, we know the analytic solution to L2 loss\n",
    "    # is   w = ((XtX)^-1)Xty\n",
    "\n",
    "    x_trans = X.T\n",
    "\n",
    "    #(XtX)^-1\n",
    "    firstpart = np.linalg.inv(x_trans @ X)\n",
    "    #secondpart XtY\n",
    "    secpart = np.dot(x_trans, y)\n",
    "\n",
    "    return (firstpart @ secpart)\n",
    "\n",
    "\n",
    "# Sample data for testing\n",
    "X = np.array([[1, 2], [3, 4], [5, 6]])\n",
    "y = np.array([7, 8, 9])    \n",
    "    \n",
    "    \n",
    "# Test the function\n",
    "w = minimize(X, y)\n",
    "print(\"Weights w:\", w)\n",
    "\n",
    "# Check if the result makes sense by calculating X @ w and comparing with y\n",
    "y_pred = X @ w\n",
    "print(\"Predicted y:\", y_pred)\n",
    "print(\"Original y:\", y)\n"
   ]
  },
  {
   "cell_type": "code",
   "execution_count": 9,
   "metadata": {},
   "outputs": [],
   "source": [
    "#Q1b)\n",
    "\n",
    "def minimizeL1(X,y):\n",
    "\n",
    "    n, d = X.shape\n",
    "    Identity = np.eye(n)\n",
    "    nOnes = np.ones(n)\n",
    "    objfunc = np.concatenate([np.zeros(d), nOnes])  # [0's for w, 1's for delta]\n",
    "\n",
    "    #constraints\n",
    "    con1 = np.hstack([X, -Identity])  #Xw - y <= delta\n",
    "    con2 = np.hstack([-X, -Identity])  #y - Xw <= delta\n",
    "    constraints = np.vstack([con1, con2]) #combine to make the constraint array\n",
    "\n",
    "    #y portion of |Xw-y| < delta\n",
    "    h1 = y   #Xw - delta <= y\n",
    "    h2 = -y   #y-Xw - delta <= -y\n",
    "    h = np.concatenate([h1,h2])\n",
    "    h = h.reshape(-1, 1) #turn to col vector\n",
    "    h = matrix(h, tc='d')  # Ensure h is a cvxopt matrix in double precision\n",
    "\n",
    "    constraints_cvxopt = matrix(constraints)\n",
    "    h_cvxopt = matrix(h)\n",
    "    objfunc_cvxopt = matrix(objfunc)\n",
    "\n",
    "    solvers.options['show_progress'] = False  # Silence solver output\n",
    "    solution = solvers.lp(objfunc_cvxopt, constraints_cvxopt, h_cvxopt)\n",
    "\n",
    "    return np.array(solution['x'])[:d]\n",
    "\n"
   ]
  },
  {
   "cell_type": "code",
   "execution_count": 8,
   "metadata": {},
   "outputs": [
    {
     "name": "stdout",
     "output_type": "stream",
     "text": [
      "Computed weights (w) \n",
      ": [[1.00000000e+00]\n",
      " [2.56881886e-16]]\n",
      "Predicted y: \n",
      " [[1.]\n",
      " [2.]\n",
      " [3.]]\n",
      "Original y: \n",
      " [1 2 3]\n",
      "L1 loss: 8.0\n"
     ]
    }
   ],
   "source": [
    "# Testing the function\n",
    "X = np.array([[1, 2], [2, 3], [3, 4]])  # 3 samples, 2 features\n",
    "y = np.array([1, 2, 3])  # Target values\n",
    "\n",
    "w = minimizeL1(X, y)\n",
    "\n",
    "print(\"Computed weights (w) \\n:\", w)\n",
    "\n",
    "y_pred = X @ w \n",
    "print(\"Predicted y: \\n\", y_pred)\n",
    "print(\"Original y: \\n\", y)\n",
    "\n",
    "l1_loss = np.sum(np.abs(y - y_pred))\n",
    "print(\"L1 loss:\", l1_loss)"
   ]
  },
  {
   "cell_type": "code",
   "execution_count": null,
   "metadata": {},
   "outputs": [],
   "source": [
    "#Q1c)"
   ]
  }
 ],
 "metadata": {
  "kernelspec": {
   "display_name": "base",
   "language": "python",
   "name": "python3"
  },
  "language_info": {
   "codemirror_mode": {
    "name": "ipython",
    "version": 3
   },
   "file_extension": ".py",
   "mimetype": "text/x-python",
   "name": "python",
   "nbconvert_exporter": "python",
   "pygments_lexer": "ipython3",
   "version": "3.11.5"
  }
 },
 "nbformat": 4,
 "nbformat_minor": 2
}
