{
 "cells": [
  {
   "cell_type": "markdown",
   "metadata": {},
   "source": [
    "<h1> Q3: Real World Dataset</h1>"
   ]
  },
  {
   "cell_type": "code",
   "execution_count": 1,
   "metadata": {},
   "outputs": [
    {
     "name": "stdout",
     "output_type": "stream",
     "text": [
      "Testing\n"
     ]
    }
   ],
   "source": [
    "import os\n",
    "import autograd.numpy as np  # when testing gradient\n",
    "from cvxopt import matrix, solvers\n",
    "import pandas as pd\n",
    "\n",
    "\n",
    "\n",
    "print(\"Testing\")"
   ]
  },
  {
   "cell_type": "code",
   "execution_count": 2,
   "metadata": {},
   "outputs": [],
   "source": [
    "##imports from q1\n",
    "\n",
    "\n",
    "def l2_Loss(w, X,y):\n",
    "\n",
    "    predicted_diff = (np.linalg.norm(X @ w - y)**2)\n",
    "    relative_result = predicted_diff / (2*X.shape[0])\n",
    "    return relative_result\n",
    "\n",
    "\n",
    "def l1_Loss(w, X,y):\n",
    "    predicted = np.abs(X@w - y)\n",
    "    avg = np.mean(predicted)\n",
    "    return avg\n",
    "\n",
    "def lInf_Loss(w, X,y):\n",
    "    diff = np.abs(X@w-y)\n",
    "    max_val = np.amax(diff)\n",
    "    return max_val\n",
    "\n",
    "\n",
    "def compute_loss(w_l2, w_l1,w_Linf,X,y):\n",
    "    results = np.zeros([3, 3])\n",
    "\n",
    "    results[0,0] = l2_Loss(w_l2, X,y)\n",
    "    results[1,0] = l2_Loss(w_l1,X,y)\n",
    "    results[2,0] = l2_Loss(w_Linf, X, y)\n",
    "    \n",
    "    results[0,1] = l1_Loss(w_l2, X,y)\n",
    "    results[1,1] = l1_Loss(w_l1,X,y)\n",
    "    results[2,1] = l1_Loss(w_Linf, X, y)\n",
    "\n",
    "    results[0,2] = lInf_Loss(w_l2, X,y)\n",
    "    results[1,2] = lInf_Loss(w_l1,X,y)\n",
    "    results[2,2] = lInf_Loss(w_Linf, X, y)\n",
    "\n",
    "    return results"
   ]
  },
  {
   "cell_type": "code",
   "execution_count": 13,
   "metadata": {},
   "outputs": [
    {
     "name": "stdout",
     "output_type": "stream",
     "text": [
      "      0  1      2      3       4     5   6  7                          8\n",
      "0  18.0  8  307.0  130.0  3504.0  12.0  70  1  chevrolet chevelle malibu\n",
      "1  15.0  8  350.0  165.0  3693.0  11.5  70  1          buick skylark 320\n",
      "2  18.0  8  318.0  150.0  3436.0  11.0  70  1         plymouth satellite\n",
      "3  16.0  8  304.0  150.0  3433.0  12.0  70  1              amc rebel sst\n",
      "4  17.0  8  302.0  140.0  3449.0  10.5  70  1                ford torino\n"
     ]
    }
   ],
   "source": [
    "#Q3a)\n",
    "\n",
    "def preprocessAutoMPD(dataset_folder):\n",
    "\n",
    "    data_df = pd.read_csv(os.path.join(dataset_folder, \"auto-mpg.data\"), \n",
    "                          header=None, \n",
    "                          delim_whitespace=True)\n",
    "    \n",
    "    print(data_df.head())\n",
    "\n",
    "\n",
    "    del data_df[8]    #car name\n",
    "    del data_df[7]  #origin\n",
    "\n",
    "    df_data = data_df.dropna() #drop rows with any missing data\n",
    "\n",
    "    labels = df_data[0].to_numpy(float)[:, None]\n",
    "    del df_data[0]\n",
    "\n",
    "    matrix = df_data.to_numpy(float)\n",
    "\n",
    "    return matrix, labels\n",
    "\n",
    "\n",
    "\n",
    "abspath = \"/Users/mariopardo/OnThisMac/Programming/C3105_Group62/Assignment1/Data/auto+mpg/\"\n",
    "\n",
    "\n",
    "\n"
   ]
  },
  {
   "cell_type": "code",
   "execution_count": null,
   "metadata": {},
   "outputs": [],
   "source": [
    "#Q3b\n",
    "\n",
    "def runAutoMPG(dataset_folder):\n",
    "\n",
    "    X, y = preprocessAutoMPG(dataset_folder)\n",
    "    n, d = X.shape\n",
    "    X = np.concatenate((np.ones((n, 1)), X), axis=1) # augment\n",
    "    n_runs = 100\n",
    "    train_loss = np.zeros([n_runs, 3, 3]) # n_runs * n_models * n_metrics\n",
    "    test_loss = np.zeros([n_runs, 3, 3]) # n_runs * n_models * n_metrics\n",
    "    \n",
    "    for r in range(n_runs):\n",
    "        \n",
    "        #partition data\n",
    "        rand_indices = np.random.permutation(n)\n",
    "        num_training = n // 2\n",
    "        train_indices = rand_indices[:num_training]\n",
    "        test_indices = rand_indices[num_training:]\n",
    "\n",
    "        X_train, y_train = X[train_indices], y[train_indices]\n",
    "        X_test, y_test = X[test_indices], y[test_indices]\n",
    "\n",
    "        l1model = l1_Loss(X_train,y_train)\n",
    "        l2model = l2_loss(X_train,y_train)\n",
    "        linfmodel = linfloss(X_train,y_train)\n",
    "\n",
    "        train_loss = compute_loss(l2model,l1model,linfmodel,X_train,y_train)\n",
    "        test_loss = compute_loss(l2model,l1model,linfmodel,X_test,y_test)\n",
    "\n",
    "        avg_train_losses = np.mean(train_loss, axis=0)\n",
    "        avg_test_losses = np.mean(test_loss, axis=0)\n",
    "\n",
    "\n",
    "        return avg_train_losses, avg_test_losses"
   ]
  }
 ],
 "metadata": {
  "kernelspec": {
   "display_name": "base",
   "language": "python",
   "name": "python3"
  },
  "language_info": {
   "codemirror_mode": {
    "name": "ipython",
    "version": 3
   },
   "file_extension": ".py",
   "mimetype": "text/x-python",
   "name": "python",
   "nbconvert_exporter": "python",
   "pygments_lexer": "ipython3",
   "version": "3.11.5"
  }
 },
 "nbformat": 4,
 "nbformat_minor": 2
}
