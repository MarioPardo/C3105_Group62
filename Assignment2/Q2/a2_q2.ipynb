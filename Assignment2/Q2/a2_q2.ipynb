{
 "cells": [
  {
   "cell_type": "code",
   "execution_count": 1,
   "metadata": {},
   "outputs": [],
   "source": [
    "import numpy as np\n",
    "from scipy.optimize import minimize\n",
    "from cvxopt import matrix, solvers"
   ]
  },
  {
   "cell_type": "code",
   "execution_count": null,
   "metadata": {},
   "outputs": [],
   "source": []
  },
  {
   "cell_type": "code",
   "execution_count": 2,
   "metadata": {},
   "outputs": [
    {
     "name": "stdout",
     "output_type": "stream",
     "text": [
      "Optimized weights: [ 1.04581218e-04  1.49123405e-04  1.27003680e-03  1.25226563e-04\n",
      " -7.41857540e-04  8.45268027e-04 -2.47937875e-03  2.55484507e-03\n",
      " -3.71837010e-05 -5.05092650e-04 -1.94790866e-03  2.46312479e-03\n",
      " -1.35317342e-04  3.31283621e-04 -9.19264719e-04 -1.93753261e-03\n",
      "  7.15133065e-04  4.92864877e-04 -2.46077531e-04 -5.22533540e-04\n",
      " -1.21697494e-03  1.55150189e-03 -3.67443973e-04  2.23744140e-03\n",
      " -1.14613299e-03  1.10942023e-03 -3.37402607e-04  4.70113445e-04\n",
      "  6.64126797e-04  3.39925783e-04 -1.63947387e-03 -1.43933676e-03\n",
      " -2.52085364e-03 -1.40576855e-03  9.43907279e-04  8.74463215e-04\n",
      "  1.41855310e-03 -1.01614974e-03  5.73755848e-04  1.35105193e-03\n",
      "  1.97909016e-03 -9.96424241e-04  3.27680601e-04  6.11965454e-04\n",
      "  7.75388445e-05 -4.89436372e-04 -1.68994911e-03  3.30983292e-05\n",
      "  3.74508250e-03 -8.59930481e-04  4.53308893e-04 -1.16565023e-03\n",
      " -1.96621573e-05  9.62750458e-04  1.41964641e-03 -3.11630800e-04\n",
      "  5.59757454e-04 -3.41554000e-04  8.81927825e-04 -1.54213672e-03\n",
      " -1.62925898e-03  1.15884011e-03  3.25142765e-04 -1.88309848e-03\n",
      "  1.38935310e-03  1.41685895e-03  8.25691910e-04 -3.86374364e-05\n",
      "  6.58229549e-04  1.54171812e-03  2.19411267e-03 -3.00901326e-04\n",
      " -2.79791559e-03 -5.12810455e-04 -3.01480218e-04  3.09474547e-05\n",
      "  6.95245654e-04  8.65556066e-04 -4.40014783e-05 -1.99375999e-03\n",
      " -9.24674204e-04 -2.13345137e-03 -5.36749518e-04  9.62708536e-04\n",
      "  1.14100618e-03 -2.48170387e-03  1.71082848e-03  4.15338042e-04\n",
      "  2.18068467e-04  2.68643655e-03 -1.59161467e-03 -1.10791036e-03\n",
      "  2.81204621e-03  1.03445681e-03  1.64780928e-04  2.47101681e-04\n",
      "  1.44042303e-04 -1.28559216e-03  9.01406054e-04  1.07094751e-03]\n",
      "Optimized bias: 0.48155985427830755\n"
     ]
    }
   ],
   "source": [
    "#q2a\n",
    "\n",
    "def objective_function(params, y, lamb, K):\n",
    "    n = len(y)\n",
    "    \n",
    "    alpha = params[:n]\n",
    "    alpha0 = params[n]\n",
    "    \n",
    "    linear_combination = K @ alpha + alpha0\n",
    "    loss = np.log(1 + np.exp(-y * linear_combination)).sum()\n",
    "    \n",
    "    regularization = (lamb / 2) * np.dot(alpha.T, K @ alpha)\n",
    "    return loss + regularization\n",
    "\n",
    "\n",
    "def adjBinDev(X, y, lamb, kernel_func):\n",
    "    n, d = X.shape\n",
    "    K = kernel_func(X, X)\n",
    "    initial_params = np.zeros(n + 1)\n",
    "    \n",
    "    result = minimize(objective_function, initial_params, args=(y, lamb, K))\n",
    "    \n",
    "    alpha = result.x[:-1]\n",
    "    alpha0 = result.x[-1]\n",
    "\n",
    "    return alpha, alpha0\n",
    "\n",
    "\n",
    "\n",
    "#  usage\n",
    "X = np.random.randn(100, 1) \n",
    "y = np.random.choice([-1, 1], size=100) \n",
    "lamb = 0.1  \n",
    "kernel_func = lambda X1, X2: np.dot(X1, X2.T)\n",
    "\n",
    "alpha, alpha_0 = adjBinDev(X, y, lamb,kernel_func)\n",
    "\n",
    "print(\"Optimized weights:\", alpha)\n",
    "print(\"Optimized bias:\", alpha_0) "
   ]
  },
  {
   "cell_type": "code",
   "execution_count": 3,
   "metadata": {},
   "outputs": [
    {
     "name": "stdout",
     "output_type": "stream",
     "text": [
      "Optimized weights: [1.01215868e-07 1.24890759e-07]\n",
      "Optimized bias: 0.9999994348153625\n"
     ]
    }
   ],
   "source": [
    "#q2b\n",
    "\n",
    "def minHinge(X, y, lamb):\n",
    "    n, d = X.shape \n",
    "\n",
    "    # P matrix: d weights, 1 bias, n slacks\n",
    "    P = np.zeros((d + 1 + n, d + 1 + n))\n",
    "    P[:d, :d] = lamb * np.eye(d) #only regularization terms are non zero\n",
    "    \n",
    "    stabilizer = 0.005\n",
    "    P += stabilizer * np.eye(d + 1 + n) #to ensure stability with cvxopt\n",
    "\n",
    "    # q vector: zero for weights and bias, 1 for each slack variable\n",
    "    q = np.hstack([np.zeros(d + 1), np.ones(n)])\n",
    "\n",
    "    # G matrix: For 2n constraints (hinge loss constraints and non-negativity of slack variables)\n",
    "    G = np.zeros((2 * n, d + 1 + n))\n",
    "\n",
    "    #G1  for non negativity of slack variables\n",
    "    G[:n, d+1:] = -np.eye(n)    # G13 Identity matrix for slack variables in hinge constraints\n",
    "    \n",
    "    #G2 (Hinge loss constraints: y_i*(w.T*x_i + b) >= 1 - xi)\n",
    "    # G21\n",
    "    G[n:, :d] = np.diag(y) @ X  # y*X\n",
    "    # G22\n",
    "    G[n:, d] = y                # y (for bias)\n",
    "    # G23\n",
    "    G[n:, d+1:] = -np.eye(n)    # -I (for slacks)\n",
    "     \n",
    "    h = np.hstack([np.zeros(n), -np.ones(n)])\n",
    "\n",
    "    #convert to matrices\n",
    "    P = matrix(P)\n",
    "    q = matrix(q)\n",
    "    G = matrix(G)\n",
    "    h = matrix(h)\n",
    "\n",
    "    solvers.options['show_progress'] = False\n",
    "    solution = solvers.qp(P, q, G, h)\n",
    "\n",
    "    w = np.array(solution['x'][:d])\n",
    "    w0 = np.array(solution['x'][d])\n",
    "\n",
    "    return w, w0\n",
    "\n",
    "# Example usage\n",
    "X = np.random.randn(100, 2)  # 100 samples, 2 features each\n",
    "y = np.random.choice([-1, 1], size=100)  # Binary labels\n",
    "lamb = 1.0  # Regularization parameter\n",
    "\n",
    "\n",
    "w, w0 = minHinge(X, y, lamb)\n",
    "\n",
    "print(\"Optimized weights:\", w.flatten())\n",
    "print(\"Optimized bias:\", w0)"
   ]
  },
  {
   "cell_type": "code",
   "execution_count": 4,
   "metadata": {},
   "outputs": [],
   "source": [
    "#q2c\n",
    "\n",
    "def adjClassify(Xtest, a, a0, X, kernel_func)\n",
    "\n"
   ]
  },
  {
   "cell_type": "code",
   "execution_count": null,
   "metadata": {},
   "outputs": [],
   "source": []
  }
 ],
 "metadata": {
  "kernelspec": {
   "display_name": "base",
   "language": "python",
   "name": "python3"
  },
  "language_info": {
   "codemirror_mode": {
    "name": "ipython",
    "version": 3
   },
   "file_extension": ".py",
   "mimetype": "text/x-python",
   "name": "python",
   "nbconvert_exporter": "python",
   "pygments_lexer": "ipython3",
   "version": "3.11.9"
  }
 },
 "nbformat": 4,
 "nbformat_minor": 2
}
