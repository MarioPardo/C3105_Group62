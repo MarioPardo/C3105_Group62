{
 "cells": [
  {
   "cell_type": "code",
   "execution_count": 1,
   "metadata": {},
   "outputs": [],
   "source": [
    "import numpy as np\n",
    "from scipy.optimize import minimize\n",
    "from cvxopt import matrix, solvers"
   ]
  },
  {
   "cell_type": "code",
   "execution_count": null,
   "metadata": {},
   "outputs": [],
   "source": []
  },
  {
   "cell_type": "code",
   "execution_count": 2,
   "metadata": {},
   "outputs": [
    {
     "name": "stdout",
     "output_type": "stream",
     "text": [
      "Optimized weights: [-7.09964362e-04  2.00693483e-03  4.00528389e-04 -8.93936168e-04\n",
      " -1.64868969e-03 -7.39176129e-04 -6.32252229e-04 -1.08744419e-04\n",
      " -1.75948432e-03  5.34773251e-05  1.35566747e-03 -1.21086547e-04\n",
      " -5.83700890e-04 -2.70887617e-04  1.79322877e-04  2.17045415e-05\n",
      " -6.28074055e-05 -2.77006856e-04 -7.13888728e-04  2.24524190e-03\n",
      "  4.22616668e-04  2.57533198e-04  1.29573331e-03 -9.40138934e-04\n",
      "  5.12852322e-04 -8.12083216e-04  2.46673723e-04 -3.81270970e-04\n",
      " -6.12864709e-04 -9.72989544e-04  2.42738030e-04  2.39190231e-04\n",
      "  1.39906750e-04  2.32557070e-06  1.43955166e-05 -5.08877648e-04\n",
      " -1.25178966e-04  2.56142126e-06 -6.97838973e-04 -2.26258196e-04\n",
      " -1.31768020e-03 -5.50901326e-04  4.96650067e-04 -4.08167195e-04\n",
      "  1.09934412e-03  1.05993720e-03  3.67392023e-04 -2.20704169e-04\n",
      " -1.23063533e-04 -1.25939433e-04  4.37605116e-04 -1.47797560e-04\n",
      "  1.41588960e-03  1.27293804e-03  1.75989025e-03  1.85364496e-03\n",
      "  1.01786239e-03  2.44323068e-03  1.52930079e-03 -1.83718758e-03\n",
      "  1.14418121e-03 -1.02504071e-03  2.25521389e-03  1.16424045e-03\n",
      " -1.54178583e-03  1.09744085e-03 -1.24971588e-03  1.54162696e-04\n",
      " -1.01655628e-03  1.51818674e-03  7.00355594e-04  1.06857172e-03\n",
      "  1.69480842e-05  5.44207135e-04 -1.90051194e-04 -1.28370040e-03\n",
      " -5.28132149e-04  1.90030924e-04 -8.51154472e-05 -1.01222603e-03\n",
      "  5.69267847e-04  6.26822468e-04  1.61426263e-03 -8.60570006e-04\n",
      "  1.55123713e-04  1.33490896e-04  6.26372660e-04 -1.04317520e-03\n",
      " -1.60805751e-03  6.05913193e-04  5.47258300e-04  1.37757733e-03\n",
      "  1.24566117e-03 -9.61575273e-04 -3.86222275e-04 -4.57540185e-04\n",
      "  1.72714074e-03 -4.19954760e-04 -5.78584339e-04  6.84475448e-04]\n",
      "Optimized bias: -0.04938228675161097\n"
     ]
    }
   ],
   "source": [
    "#q2a\n",
    "\n",
    "def objective_function(params, y, lamb, K):\n",
    "    n = len(y)\n",
    "    \n",
    "    alpha = params[:n]\n",
    "    alpha0 = params[n]\n",
    "    \n",
    "    linear_combination = K @ alpha + alpha0\n",
    "    loss = np.log(1 + np.exp(-y * linear_combination)).sum()\n",
    "    \n",
    "    regularization = (lamb / 2) * np.dot(alpha.T, K @ alpha)\n",
    "    return loss + regularization\n",
    "\n",
    "\n",
    "def adjBinDev(X, y, lamb, kernel_func):\n",
    "    n, d = X.shape\n",
    "    K = kernel_func(X, X)\n",
    "    initial_params = np.zeros(n + 1)\n",
    "    \n",
    "    result = minimize(objective_function, initial_params, args=(y, lamb, K))\n",
    "    \n",
    "    alpha = result.x[:-1]\n",
    "    alpha0 = result.x[-1]\n",
    "\n",
    "    return alpha, alpha0\n",
    "\n",
    "\n",
    "\n",
    "#  usage\n",
    "X = np.random.randn(100, 1) \n",
    "y = np.random.choice([-1, 1], size=100) \n",
    "lamb = 0.1  \n",
    "kernel_func = lambda X1, X2: np.dot(X1, X2.T)\n",
    "\n",
    "alpha, alpha_0 = adjBinDev(X, y, lamb,kernel_func)\n",
    "\n",
    "print(\"Optimized weights:\", alpha)\n",
    "print(\"Optimized bias:\", alpha_0) "
   ]
  },
  {
   "cell_type": "code",
   "execution_count": 3,
   "metadata": {},
   "outputs": [
    {
     "name": "stdout",
     "output_type": "stream",
     "text": [
      "Optimized weights: [ 6.74287837e-09 -1.75820952e-09 -5.77008761e-09 -3.26955109e-09\n",
      " -4.94406363e-09 -1.82373385e-09  1.80029279e-09  1.14533156e-11\n",
      "  1.54705781e-09  2.08002916e-09  2.52541622e-09 -3.56459261e-09\n",
      "  6.54447014e-10  1.20782754e-09 -9.67435626e-10 -9.44198744e-10\n",
      " -3.53941413e-09  2.07095775e-09 -3.90815994e-09  1.22561235e-09\n",
      " -9.35842782e-10  2.41222302e-09 -1.65670732e-09  5.31345487e-09\n",
      " -3.12635984e-10  3.08651572e-10  7.35471669e-10 -9.14629054e-10\n",
      " -3.93122264e-10  3.92756280e-11  2.61985870e-09 -5.74765091e-10\n",
      "  3.43095961e-09  3.21307938e-10 -1.79793766e-09  5.06616819e-09\n",
      "  4.65303804e-09 -2.75315663e-09  2.29134850e-09 -3.65314968e-09\n",
      "  1.08950663e-09  4.25818633e-10 -6.80929807e-10  1.83449699e-09\n",
      " -1.92140949e-09  1.18973707e-09 -3.92927817e-09  6.61153146e-10\n",
      " -3.71508645e-09 -6.06382782e-10 -1.18369897e-09 -1.11468199e-09\n",
      "  4.82950768e-09 -1.21067833e-09  2.74077622e-09 -1.01242778e-09\n",
      "  2.14670451e-10  1.40083794e-09  9.04213072e-10 -5.99678671e-09\n",
      "  9.96096329e-10  1.59534287e-09 -1.36975829e-09 -7.06784374e-09\n",
      "  7.75352910e-09 -4.56527345e-09  2.63758613e-10  2.45376004e-09\n",
      "  2.70956400e-09 -6.74307077e-10  5.04725930e-09  3.36984763e-09\n",
      " -1.42890105e-09 -2.81071017e-09  1.31063120e-09 -9.96712145e-10\n",
      "  3.67695582e-09  2.64611290e-09 -7.62145431e-10  1.14106102e-09\n",
      " -3.78034671e-10 -7.88207726e-10  4.06061530e-09  2.96288199e-10\n",
      "  5.03032130e-09 -9.99923794e-10 -3.18024958e-09  9.34122505e-10\n",
      " -1.88862159e-09 -1.18035715e-10 -3.13391143e-09  2.23447137e-09\n",
      "  1.31376192e-09 -6.30301664e-10  1.69589465e-09  5.73801897e-09\n",
      " -2.44969839e-09 -3.22845754e-10 -4.39373761e-09 -2.98093481e-09]\n",
      "Optimized bias: -0.020067673165416543\n"
     ]
    }
   ],
   "source": [
    "#q2b\n",
    "\n",
    "def adjHinge(X,y,lamb,kernel_func,stabilizer=1e-5):\n",
    "    n = len(y)\n",
    "    K = kernel_func(X,X)  # Compute the kernel matrix\n",
    "    y = np.array(y, dtype=np.double)\n",
    "\n",
    "    # Create the P matrix\n",
    "    P = np.zeros((n + 1 + n, n + 1 + n))  # α, α_0, ξ\n",
    "    P[:n, :n] = K  # Kernel matrix for α terms\n",
    "    #P = P * np.outer(y, y)  # Modulate by outer product of labels\n",
    "    P += stabilizer * np.eye(n + 1 + n)  # Stabilization\n",
    "\n",
    "    #1 vector\n",
    "    q = np.hstack([np.zeros(n + 1), lamb * np.ones(n)])\n",
    "    \n",
    "    #G matrix\n",
    "    G = np.zeros((2 * n, n + 1 + n))\n",
    "    \n",
    "    G[:n, n+1:] = np.eye(n)  # For ξ ≥ 0\n",
    "    G[n:, :n] = -K * y[:, None]  # -Δ(y)K part of the hinge constraint\n",
    "    G[n:, n] = -y  # -Δ(y)α_0 part\n",
    "    G[n:, n+1:] = np.eye(n)  #slack variables\n",
    "    \n",
    "    # Create the h vector\n",
    "    h = np.hstack([np.zeros(n), -np.ones(n)])  # 0s for ξ ≥ 0 and 1s for the hinge constraint\n",
    "\n",
    "    # Convert everything to CVXOPT matrices for solving\n",
    "    P = matrix(P)\n",
    "    q = matrix(q)\n",
    "    G = matrix(G)\n",
    "    h = matrix(h)\n",
    "  \n",
    "\n",
    "    #Solve\n",
    "    solvers.options['show_progress'] = False\n",
    "    solution = solvers.qp(P, q, G, h)\n",
    "\n",
    "    # Extract solutions\n",
    "    alphas = np.array(solution['x'][:n])\n",
    "    alpha0 = np.array(solution['x'][n])\n",
    "\n",
    "    return alphas, alpha0\n",
    "\n",
    "# Example usage\n",
    "X = np.random.randn(100, 2)  # 100 samples, 2 features each\n",
    "y = np.random.choice([-1, 1], size=100)  # Binary labels\n",
    "lamb = 1.0  # Regularization parameter\n",
    "\n",
    "def kernel_function(X):\n",
    "    \"\"\" Linear kernel as a placeholder. Replace with appropriate kernel logic. \"\"\"\n",
    "    return np.dot(X, X.T)\n",
    "\n",
    "a, a0 = adjHinge(X, y, lamb,kernel_func)\n",
    "\n",
    "print(\"Optimized weights:\", a.flatten())\n",
    "print(\"Optimized bias:\", a0)"
   ]
  },
  {
   "cell_type": "code",
   "execution_count": 4,
   "metadata": {},
   "outputs": [
    {
     "ename": "SyntaxError",
     "evalue": "expected ':' (928105013.py, line 3)",
     "output_type": "error",
     "traceback": [
      "\u001b[0;36m  Cell \u001b[0;32mIn[4], line 3\u001b[0;36m\u001b[0m\n\u001b[0;31m    def adjClassify(Xtest, a, a0, X, kernel_func)\u001b[0m\n\u001b[0m                                                 ^\u001b[0m\n\u001b[0;31mSyntaxError\u001b[0m\u001b[0;31m:\u001b[0m expected ':'\n"
     ]
    }
   ],
   "source": [
    "#q2c\n",
    "\n",
    "def adjClassify(Xtest, a, a0, X, kernel_func):\n",
    "\n"
   ]
  },
  {
   "cell_type": "code",
   "execution_count": null,
   "metadata": {},
   "outputs": [],
   "source": []
  }
 ],
 "metadata": {
  "kernelspec": {
   "display_name": "base",
   "language": "python",
   "name": "python3"
  },
  "language_info": {
   "codemirror_mode": {
    "name": "ipython",
    "version": 3
   },
   "file_extension": ".py",
   "mimetype": "text/x-python",
   "name": "python",
   "nbconvert_exporter": "python",
   "pygments_lexer": "ipython3",
   "version": "3.11.9"
  }
 },
 "nbformat": 4,
 "nbformat_minor": 2
}
