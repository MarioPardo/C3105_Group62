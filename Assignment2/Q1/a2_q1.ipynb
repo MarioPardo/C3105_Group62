{
 "cells": [
  {
   "cell_type": "code",
   "execution_count": 14,
   "metadata": {},
   "outputs": [
    {
     "name": "stdout",
     "output_type": "stream",
     "text": [
      "Requirement already satisfied: scipy in /opt/homebrew/lib/python3.11/site-packages (1.14.1)\n",
      "Requirement already satisfied: numpy<2.3,>=1.23.5 in /opt/homebrew/lib/python3.11/site-packages (from scipy) (1.25.2)\n",
      "\n",
      "\u001b[1m[\u001b[0m\u001b[34;49mnotice\u001b[0m\u001b[1;39;49m]\u001b[0m\u001b[39;49m A new release of pip is available: \u001b[0m\u001b[31;49m24.1.2\u001b[0m\u001b[39;49m -> \u001b[0m\u001b[32;49m24.2\u001b[0m\n",
      "\u001b[1m[\u001b[0m\u001b[34;49mnotice\u001b[0m\u001b[1;39;49m]\u001b[0m\u001b[39;49m To update, run: \u001b[0m\u001b[32;49mpython3.11 -m pip install --upgrade pip\u001b[0m\n",
      "Note: you may need to restart the kernel to use updated packages.\n"
     ]
    }
   ],
   "source": [
    "pip install scipy"
   ]
  },
  {
   "cell_type": "code",
   "execution_count": 18,
   "metadata": {},
   "outputs": [
    {
     "name": "stdout",
     "output_type": "stream",
     "text": [
      "Optimized weights: [-0.04883063]\n",
      "Optimized bias: 0.2835684287674836\n"
     ]
    }
   ],
   "source": [
    "#q1 a)\n",
    "\n",
    "import numpy as np\n",
    "from scipy.optimize import minimize\n",
    "\n",
    "def obj_loss_function(params,X,y,lamb):\n",
    "\n",
    "    w = params[:-1]  \n",
    "    w0 = params[-1]  \n",
    "\n",
    "    logits = X @ w + w0  # Xw + w0\n",
    "    exponent = -y * logits  \n",
    "    log_loss = np.sum(np.log(1 + np.exp(exponent))) \n",
    "\n",
    "    reg_term = (lamb / 2) * np.sum(w**2)\n",
    "    \n",
    "    total_loss = log_loss + reg_term\n",
    "    return total_loss\n",
    "\n",
    "\n",
    "\n",
    "def minBinDev(X, y, lamb):\n",
    "    #want to return w, w0\n",
    "    n, d = X.shape\n",
    "    \n",
    "    initial_params = np.zeros(d + 1)  \n",
    "\n",
    "    results = minimize(obj_loss_function,initial_params,args = (X,y,lamb), method = 'bfgs')\n",
    "\n",
    "    w_opt = results.x[:-1]  #  d elements are w\n",
    "    w0_opt = results.x[-1]  # last element is w0\n",
    "    \n",
    "    return w_opt, w0_opt\n",
    "    \n",
    "\n",
    "    \n",
    "\n",
    "#  usage\n",
    "X = np.random.randn(100, 1) \n",
    "y = np.random.choice([-1, 1], size=100) \n",
    "lamb = 0.1  # Regularization parameter\n",
    "\n",
    "# Find the optimized weights and bias\n",
    "w_opt, w0_opt = minBinDev(X, y, lamb)\n",
    "\n",
    "print(\"Optimized weights:\", w_opt)\n",
    "print(\"Optimized bias:\", w0_opt) "
   ]
  }
 ],
 "metadata": {
  "kernelspec": {
   "display_name": ".venv",
   "language": "python",
   "name": "python3"
  },
  "language_info": {
   "codemirror_mode": {
    "name": "ipython",
    "version": 3
   },
   "file_extension": ".py",
   "mimetype": "text/x-python",
   "name": "python",
   "nbconvert_exporter": "python",
   "pygments_lexer": "ipython3",
   "version": "3.11.9"
  }
 },
 "nbformat": 4,
 "nbformat_minor": 2
}
